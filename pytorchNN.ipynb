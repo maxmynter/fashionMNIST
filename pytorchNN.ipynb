{
 "cells": [
  {
   "cell_type": "code",
   "execution_count": 21,
   "metadata": {},
   "outputs": [],
   "source": [
    "from fashionData import *\n",
    "import torch.nn as nn\n",
    "import torch.nn.functional as F\n",
    "import torch.optim as optim"
   ]
  },
  {
   "cell_type": "code",
   "execution_count": 22,
   "metadata": {},
   "outputs": [],
   "source": [
    "train = FashionData('data/fashion-mnist_train.csv')"
   ]
  },
  {
   "cell_type": "code",
   "execution_count": 23,
   "metadata": {},
   "outputs": [],
   "source": [
    "class Net(nn.Module):\n",
    "    def __init__(self):\n",
    "        super(Net, self).__init__()\n",
    "        self.conv1 = nn.Conv2d(1, 10, kernel_size=5)\n",
    "        self.conv2 = nn.Conv2d(10, 20, kernel_size=5)\n",
    "        self.conv2_drop = nn.Dropout2d()\n",
    "        self.fc1 = nn.Linear(320, 50)\n",
    "        self.fc2 = nn.Linear(50, 10)\n",
    "\n",
    "    def forward(self, x):\n",
    "        x = F.relu(F.max_pool2d(self.conv1(x), 2))\n",
    "        x = F.relu(F.max_pool2d(self.conv2_drop(self.conv2(x)), 2))\n",
    "        x = x.view(-1, 320)\n",
    "        x = F.relu(self.fc1(x))\n",
    "        x = F.dropout(x, training=self.training)\n",
    "        x = self.fc2(x)\n",
    "        return F.log_softmax(x)\n",
    "\n"
   ]
  },
  {
   "cell_type": "code",
   "execution_count": 24,
   "metadata": {},
   "outputs": [
    {
     "name": "stdout",
     "output_type": "stream",
     "text": [
      "Net(\n",
      "  (conv1): Conv2d(1, 10, kernel_size=(5, 5), stride=(1, 1))\n",
      "  (conv2): Conv2d(10, 20, kernel_size=(5, 5), stride=(1, 1))\n",
      "  (conv2_drop): Dropout2d(p=0.5, inplace=False)\n",
      "  (fc1): Linear(in_features=320, out_features=50, bias=True)\n",
      "  (fc2): Linear(in_features=50, out_features=10, bias=True)\n",
      ")\n"
     ]
    }
   ],
   "source": [
    "network = Net()\n",
    "print(network)"
   ]
  },
  {
   "cell_type": "code",
   "execution_count": 25,
   "metadata": {},
   "outputs": [],
   "source": [
    "learning_rate = 0.01\n",
    "optimizer = optim.SGD(network.parameters(), lr=learning_rate)\n",
    "loss_criterion = nn.CrossEntropyLoss()"
   ]
  },
  {
   "cell_type": "code",
   "execution_count": 26,
   "metadata": {},
   "outputs": [
    {
     "name": "stderr",
     "output_type": "stream",
     "text": [
      "/var/folders/2y/bnxt2f3n7z5btz_1gx1hdklh0000gn/T/ipykernel_8041/1954227324.py:17: UserWarning: Implicit dimension choice for log_softmax has been deprecated. Change the call to include dim=X as an argument.\n",
      "  return F.log_softmax(x)\n"
     ]
    },
    {
     "name": "stdout",
     "output_type": "stream",
     "text": [
      "Epoch [1/15], Step [100/600], Loss: 1.3493\n",
      "Epoch [1/15], Step [200/600], Loss: 0.9450\n",
      "Epoch [1/15], Step [300/600], Loss: 0.9920\n",
      "Epoch [1/15], Step [400/600], Loss: 1.0244\n",
      "Epoch [1/15], Step [500/600], Loss: 0.9960\n",
      "Epoch [1/15], Step [600/600], Loss: 0.9683\n",
      "Epoch [2/15], Step [100/600], Loss: 0.9346\n",
      "Epoch [2/15], Step [200/600], Loss: 0.8453\n",
      "Epoch [2/15], Step [300/600], Loss: 0.5957\n",
      "Epoch [2/15], Step [400/600], Loss: 1.0050\n",
      "Epoch [2/15], Step [500/600], Loss: 0.7829\n",
      "Epoch [2/15], Step [600/600], Loss: 0.7071\n",
      "Epoch [3/15], Step [100/600], Loss: 0.7644\n",
      "Epoch [3/15], Step [200/600], Loss: 0.6007\n",
      "Epoch [3/15], Step [300/600], Loss: 0.6361\n",
      "Epoch [3/15], Step [400/600], Loss: 0.5340\n",
      "Epoch [3/15], Step [500/600], Loss: 0.5563\n",
      "Epoch [3/15], Step [600/600], Loss: 0.5495\n",
      "Epoch [4/15], Step [100/600], Loss: 0.9556\n",
      "Epoch [4/15], Step [200/600], Loss: 0.8029\n",
      "Epoch [4/15], Step [300/600], Loss: 0.6622\n",
      "Epoch [4/15], Step [400/600], Loss: 0.6566\n",
      "Epoch [4/15], Step [500/600], Loss: 0.6502\n",
      "Epoch [4/15], Step [600/600], Loss: 0.6019\n",
      "Epoch [5/15], Step [100/600], Loss: 0.5701\n",
      "Epoch [5/15], Step [200/600], Loss: 0.4737\n",
      "Epoch [5/15], Step [300/600], Loss: 0.6488\n",
      "Epoch [5/15], Step [400/600], Loss: 0.5113\n",
      "Epoch [5/15], Step [500/600], Loss: 0.5077\n",
      "Epoch [5/15], Step [600/600], Loss: 0.5761\n",
      "Epoch [6/15], Step [100/600], Loss: 0.5506\n",
      "Epoch [6/15], Step [200/600], Loss: 0.5581\n",
      "Epoch [6/15], Step [300/600], Loss: 0.7873\n",
      "Epoch [6/15], Step [400/600], Loss: 0.6247\n",
      "Epoch [6/15], Step [500/600], Loss: 0.6302\n",
      "Epoch [6/15], Step [600/600], Loss: 0.6007\n",
      "Epoch [7/15], Step [100/600], Loss: 0.4012\n",
      "Epoch [7/15], Step [200/600], Loss: 0.6523\n",
      "Epoch [7/15], Step [300/600], Loss: 0.5788\n",
      "Epoch [7/15], Step [400/600], Loss: 0.5727\n",
      "Epoch [7/15], Step [500/600], Loss: 0.3621\n",
      "Epoch [7/15], Step [600/600], Loss: 0.5276\n",
      "Epoch [8/15], Step [100/600], Loss: 0.7363\n",
      "Epoch [8/15], Step [200/600], Loss: 0.5662\n",
      "Epoch [8/15], Step [300/600], Loss: 0.6228\n",
      "Epoch [8/15], Step [400/600], Loss: 0.6275\n",
      "Epoch [8/15], Step [500/600], Loss: 0.6039\n",
      "Epoch [8/15], Step [600/600], Loss: 0.6271\n",
      "Epoch [9/15], Step [100/600], Loss: 0.6081\n",
      "Epoch [9/15], Step [200/600], Loss: 0.5803\n",
      "Epoch [9/15], Step [300/600], Loss: 0.6086\n",
      "Epoch [9/15], Step [400/600], Loss: 0.6380\n",
      "Epoch [9/15], Step [500/600], Loss: 0.4407\n",
      "Epoch [9/15], Step [600/600], Loss: 0.4571\n",
      "Epoch [10/15], Step [100/600], Loss: 0.5451\n",
      "Epoch [10/15], Step [200/600], Loss: 0.4253\n",
      "Epoch [10/15], Step [300/600], Loss: 0.6306\n",
      "Epoch [10/15], Step [400/600], Loss: 0.5314\n",
      "Epoch [10/15], Step [500/600], Loss: 0.4878\n",
      "Epoch [10/15], Step [600/600], Loss: 0.4488\n",
      "Epoch [11/15], Step [100/600], Loss: 0.5271\n",
      "Epoch [11/15], Step [200/600], Loss: 0.4602\n",
      "Epoch [11/15], Step [300/600], Loss: 0.6440\n",
      "Epoch [11/15], Step [400/600], Loss: 0.4359\n",
      "Epoch [11/15], Step [500/600], Loss: 0.4719\n",
      "Epoch [11/15], Step [600/600], Loss: 0.4958\n",
      "Epoch [12/15], Step [100/600], Loss: 0.4583\n",
      "Epoch [12/15], Step [200/600], Loss: 0.4859\n",
      "Epoch [12/15], Step [300/600], Loss: 0.5770\n",
      "Epoch [12/15], Step [400/600], Loss: 0.3113\n",
      "Epoch [12/15], Step [500/600], Loss: 0.4264\n",
      "Epoch [12/15], Step [600/600], Loss: 0.5376\n",
      "Epoch [13/15], Step [100/600], Loss: 0.4487\n",
      "Epoch [13/15], Step [200/600], Loss: 0.6118\n",
      "Epoch [13/15], Step [300/600], Loss: 0.4465\n",
      "Epoch [13/15], Step [400/600], Loss: 0.5839\n",
      "Epoch [13/15], Step [500/600], Loss: 0.6338\n",
      "Epoch [13/15], Step [600/600], Loss: 0.5623\n",
      "Epoch [14/15], Step [100/600], Loss: 0.6579\n",
      "Epoch [14/15], Step [200/600], Loss: 0.6031\n",
      "Epoch [14/15], Step [300/600], Loss: 0.4295\n",
      "Epoch [14/15], Step [400/600], Loss: 0.5230\n",
      "Epoch [14/15], Step [500/600], Loss: 0.6237\n",
      "Epoch [14/15], Step [600/600], Loss: 0.5453\n",
      "Epoch [15/15], Step [100/600], Loss: 0.5328\n",
      "Epoch [15/15], Step [200/600], Loss: 0.4860\n",
      "Epoch [15/15], Step [300/600], Loss: 0.4682\n",
      "Epoch [15/15], Step [400/600], Loss: 0.4556\n",
      "Epoch [15/15], Step [500/600], Loss: 0.5113\n",
      "Epoch [15/15], Step [600/600], Loss: 0.4323\n"
     ]
    }
   ],
   "source": [
    "device = torch.device('cuda' if torch.cuda.is_available() else 'cpu')\n",
    "n_epochs=15\n",
    "batch_size = 100\n",
    "\n",
    "\n",
    "train_loader = torch.utils.data.DataLoader(dataset=train, batch_size=batch_size, shuffle=True)\n",
    "\n",
    "n_total_steps = len(train_loader)\n",
    "\n",
    "for epoch in range(n_epochs):\n",
    "    for i, (labels, images) in enumerate(train_loader):\n",
    "        images = images.to(device)\n",
    "        labels = labels.to(device)\n",
    "        \n",
    "        # Forward pass and loss calculation\n",
    "        outputs = network(images)\n",
    "        loss = loss_criterion(outputs, labels)\n",
    "        \n",
    "        # Backward and optimize\n",
    "        loss.backward()\n",
    "        optimizer.step()\n",
    "        optimizer.zero_grad()\n",
    "\n",
    "        if (i+1) % 100 == 0:\n",
    "            print (f'Epoch [{epoch+1}/{n_epochs}], Step [{i+1}/{n_total_steps}], Loss: {loss.item():.4f}')"
   ]
  },
  {
   "cell_type": "code",
   "execution_count": 27,
   "metadata": {},
   "outputs": [
    {
     "name": "stderr",
     "output_type": "stream",
     "text": [
      "/var/folders/2y/bnxt2f3n7z5btz_1gx1hdklh0000gn/T/ipykernel_8041/1954227324.py:17: UserWarning: Implicit dimension choice for log_softmax has been deprecated. Change the call to include dim=X as an argument.\n",
      "  return F.log_softmax(x)\n"
     ]
    },
    {
     "name": "stdout",
     "output_type": "stream",
     "text": [
      "Accuracy of the network on the 10000 test images: 82.01 %\n"
     ]
    }
   ],
   "source": [
    "test = FashionData('data/fashion-mnist_test.csv')\n",
    "test_loader = torch.utils.data.DataLoader(dataset=test, batch_size=batch_size, shuffle=True)\n",
    "\n",
    "\n",
    "with torch.no_grad():\n",
    "    n_correct = 0\n",
    "    n_samples = len(test_loader.dataset)\n",
    "    for labels, images in test_loader:\n",
    "        images = images.to(device)\n",
    "        labels = labels.to(device)\n",
    "\n",
    "        outputs = network(images)\n",
    "\n",
    "        # max returns (output_value ,index)\n",
    "        _, predicted = torch.max(outputs, 1)\n",
    "        n_correct += (predicted == labels).sum().item()\n",
    "\n",
    "    acc = n_correct / n_samples\n",
    "    print(f'Accuracy of the network on the {n_samples} test images: {100*acc} %')"
   ]
  },
  {
   "cell_type": "code",
   "execution_count": null,
   "metadata": {},
   "outputs": [],
   "source": []
  }
 ],
 "metadata": {
  "kernelspec": {
   "display_name": "Python 3 (ipykernel)",
   "language": "python",
   "name": "python3"
  },
  "language_info": {
   "codemirror_mode": {
    "name": "ipython",
    "version": 3
   },
   "file_extension": ".py",
   "mimetype": "text/x-python",
   "name": "python",
   "nbconvert_exporter": "python",
   "pygments_lexer": "ipython3",
   "version": "3.11.4"
  }
 },
 "nbformat": 4,
 "nbformat_minor": 2
}
